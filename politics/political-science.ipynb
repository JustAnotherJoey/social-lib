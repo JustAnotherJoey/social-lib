{
 "cells": [
  {
   "cell_type": "markdown",
   "id": "03a1806d",
   "metadata": {},
   "source": [
    "# Political Science\n",
    "\n",
    "\n",
    "## The Prince by Niccolo Machiavelli\n",
    "\n",
    "### Chapters 1-3\n",
    "N.M makes distinction between two types of governments : republics and monarchies. He states that all governments must be one of those forms of government. N.M decides to focus on monarchies. He begins to talk about how hereditary monarchies are a stable form of government once they have been established. Only extremely significant external forces could displace one from a position of power in a hereditary monarchy, and in many cases the hereditary monarch has some advantages in terms of having the ability to regain power. \n",
    "Delving further into monarchies, N.M defines mixed monarchies as the new territory that is added to an existing monarchy. In this case, a monarch should do things such as move to the new territory, eliminate the family of the previous rulers, send out colonies, maintain previous power structures, undermine efforts of powerful neighbors in the area, and establish friendly relationships with the new nieghbors in the area. On the other hand, a new ruler should not defer inevitable wars to a later period since it is only to the benefit of the challenging parties to have more time to strengthen themselves. New rulers are put into positions where many of their behaviours over new inhabitants can be viewed as adversarial.\n",
    "\n",
    "### Chapters 4-5\n",
    "N.M brings up the story of Alexander the Great and how his empire was able to survive amongst his leading generals because he had conquered a region that was previously under the control of the Persian king Darius and was thus accustomed to being under the control of a monarch. N.M talks about how countries that are accustomed to republic rule or are more loyal to their local leaders than the leader of the nation. Countries like this can only be taken over by destroying them completely, living there after taking control, or by appointing a few locals as represenatatives, taking a tax, and keeping customs the same. N.M argues that countries accustomed to freedom will yearn for freedom after being taken over, making them very difficult to maintain without extreme effort. On the other hand, monarchies can quickly be assimilated by removing the hereditary monarchy that is in place. \n",
    "\n",
    "### Chapters 6-8\n",
    "N.M discusses the different ways in which one can win a state over. These methods are by skill, luck, and crime. States won over by skill are extremely difficult to win over, since all that is left for the skillful prince to maintain power is to eliminate the rival monarchy and raise a force that is sufficient enough to stave off opposition from people resisting new changes. Overall, the difficult part for the prince achieving power through skill is securing the position of monarch and instituting the new regime in a stable manner. \n",
    "\n",
    "\n",
    "\n",
    "### Chapters 9-10\n",
    "N.M talks about men who gain power through crime/cruelty. He talks about two different examples, Agathocles and Oliverotto, who were both men that achieved power through deception and violence. Moreover, N.M suggests that power attained through crime must intelligently use cruelty. According to N.M, cruelty is intelligently used when it is decisive and quick. If you must be brutal, do it quickly and completely so that you do not sow the seeds of resentment and so that you can shortly begin to regain support through other means. \n",
    "\n",
    "Finally, N.M talks about how private citizens can become monarch through public support. N.M states that this can only be done by gaining support of the nobles or the common people. This must be done according to the most convenient circumstances, according to N.M. It is easier to gain power through the nobles quickly but harder to maintain it, since the nobles will consider him their equals and not take orders. However, a private citizen who gains support through the people will have a tougher time overcoming the ruling class but will be able to maintain it better. If a citizen gains power through the nobility, he must immediately try to gain the support of the citizens and also be weary of nobles who are charismatic and distant, because they will be the biggest threats once times controversy arises.\n",
    "\n",
    "### Chapters 11-12"
   ]
  },
  {
   "cell_type": "markdown",
   "id": "ddff987e",
   "metadata": {},
   "source": [
    "## The Machiavellians by James Burnham"
   ]
  },
  {
   "cell_type": "markdown",
   "id": "bc593d6d",
   "metadata": {},
   "source": [
    "## Theory of the Ruling Class by Gaetano Mosca"
   ]
  },
  {
   "cell_type": "markdown",
   "id": "7d9f667d",
   "metadata": {},
   "source": [
    "## The Mind and Society by Vilfredo Pareto"
   ]
  },
  {
   "cell_type": "markdown",
   "id": "50f8ea64",
   "metadata": {},
   "source": [
    "## The Federalist Papers by Publius"
   ]
  },
  {
   "cell_type": "markdown",
   "id": "8e9bf38b",
   "metadata": {},
   "source": [
    "## Scala Politica by Nassim Nicholas Taleb"
   ]
  },
  {
   "cell_type": "markdown",
   "id": "96391f38",
   "metadata": {},
   "source": [
    "## Second Treatise on Government by John Locke"
   ]
  },
  {
   "cell_type": "markdown",
   "id": "b3dadd82",
   "metadata": {},
   "source": [
    "## Propaganda by Edward Bernays"
   ]
  },
  {
   "cell_type": "code",
   "execution_count": null,
   "id": "35bb6c2c",
   "metadata": {},
   "outputs": [],
   "source": []
  }
 ],
 "metadata": {
  "kernelspec": {
   "display_name": "Python 3",
   "language": "python",
   "name": "python3"
  },
  "language_info": {
   "codemirror_mode": {
    "name": "ipython",
    "version": 3
   },
   "file_extension": ".py",
   "mimetype": "text/x-python",
   "name": "python",
   "nbconvert_exporter": "python",
   "pygments_lexer": "ipython3",
   "version": "3.8.8"
  }
 },
 "nbformat": 4,
 "nbformat_minor": 5
}
