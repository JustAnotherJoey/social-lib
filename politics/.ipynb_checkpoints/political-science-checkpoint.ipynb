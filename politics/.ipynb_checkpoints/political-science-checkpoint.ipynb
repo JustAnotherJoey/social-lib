{
 "cells": [
  {
   "cell_type": "markdown",
   "id": "03a1806d",
   "metadata": {},
   "source": [
    "# Political Science\n",
    "\n",
    "\n",
    "## The Prince by Niccolo Machiavelli\n",
    "\n",
    "### Chapters 1-3\n",
    "N.M makes distinction between two types of governments : republics and monarchies. He states that all governments must be one of those forms of government. N.M decides to focus on monarchies. He begins to talk about how hereditary monarchies are a stable form of government once they have been established. Only extremely significant external forces could displace one from a position of power in a hereditary monarchy, and in many cases the hereditary monarch has some advantages in terms of having the ability to regain power. \n",
    "Delving further into monarchies, N.M defines mixed monarchies as the new territory that is added to an existing monarchy. In this case, a monarch should do things such as move to the new territory, eliminate the family of the previous rulers, send out colonies, maintain previous power structures, undermine efforts of powerful neighbors in the area, and establish friendly relationships with the new nieghbors in the area. On the other hand, a new ruler should not defer inevitable wars to a later period since it is only to the benefit of the challenging parties to have more time to strengthen themselves. New rulers are put into positions where many of their behaviours over new inhabitants can be viewed as adversarial.\n",
    "\n",
    "### Chapters 4-5\n",
    "N.M brings up the story of Alexander the Great and how his empire was able to survive amongst his leading generals because he had conquered a region that was previously under the control of the Persian king Darius and was thus accustomed to being under the control of a monarch. N.M talks about how countries that are accustomed to republic rule or are more loyal to their local leaders than the leader of the nation. Countries like this can only be taken over by destroying them completely, living there after taking control, or by appointing a few locals as represenatatives, taking a tax, and keeping customs the same. N.M argues that countries accustomed to freedom will yearn for freedom after being taken over, making them very difficult to maintain without extreme effort. On the other hand, monarchies can quickly be assimilated by removing the hereditary monarchy that is in place. \n",
    "\n",
    "### Chapters 6-8\n",
    "N.M discusses the different ways in which one can win a state over. These methods are by skill, luck, and crime. States won over by skill are extremely difficult to win over, since all that is left for the skillful prince to maintain power is to eliminate the rival monarchy and raise a force that is sufficient enough to stave off opposition from people resisting new changes. Overall, the difficult part for the prince achieving power through skill is securing the position of monarch and instituting the new regime in a stable manner. \n",
    "\n",
    "\n",
    "\n",
    "### Chapters 9-10\n",
    "N.M talks about men who gain power through crime/cruelty. He talks about two different examples, Agathocles and Oliverotto, who were both men that achieved power through deception and violence. Moreover, N.M suggests that power attained through crime must intelligently use cruelty. According to N.M, cruelty is intelligently used when it is decisive and quick. If you must be brutal, do it quickly and completely so that you do not sow the seeds of resentment and so that you can shortly begin to regain support through other means. \n",
    "\n",
    "Finally, N.M talks about how private citizens can become monarch through public support. N.M states that this can only be done by gaining support of the nobles or the common people. This must be done according to the most convenient circumstances, according to N.M. It is easier to gain power through the nobles quickly but harder to maintain it, since the nobles will consider him their equals and not take orders. However, a private citizen who gains support through the people will have a tougher time overcoming the ruling class but will be able to maintain it better. If a citizen gains power through the nobility, he must immediately try to gain the support of the citizens and also be weary of nobles who are charismatic and distant, because they will be the biggest threats once times controversy arises.\n",
    "\n",
    "### Chapter 11\n",
    "N.M talks briefly about church states. Church states are very difficult to establish but easy to maintain once setup. Pope Alexander VI and Pope Julius were very successful at expanding the powers of the church state. \n",
    "\n",
    "### Chapter 12-14\n",
    "N.M states that a good ruler must have good laws and a good army. A ruler can build an army himself, use someone else's army, or hire merceneries. N.M advises that a good ruler use other forces sparingly and establish a loyal army as soon as possible. N.M cites historical examples such as Carmagnola and Bartolomeo da Bergamo as mercenary commanders who were either disloyal or not willing to fight for the cause under extreme pressure. Moreover, when someone uses the forces of another strong entity, it is not advantageous. One is dependent on the whims of the person who controls the army, which can do not be in line with anybody else's objectives. N.M states that a good ruler is one that predicates his time studying history, preparing strategy, and maintaining discipline and preparedness. Good examples are Alexander the Great, Scipio, Achilles, Caesar, and Cyrus.\n",
    "\n",
    "### Chapters 15-18\n",
    "N.M believes that traditional virtue must be used intelligently and sometimes a good ruler must do bad things for the sake of maintaining power. Furthermore, the traditional virtues taken in excess can actually turn out to be detrimental to a leader. For example, excessive genorisity can lead to needing to do disadvantageous things down the road (like raise taxes) which can cause people to forget past generosity. The exception to this rule is when the ruler does not have to use his own personal wealth to finance such generous gifts/services. Furthermore, a ruler must use selective meanness in order to decisivily handle problems as they arise to keep a stable grip over power. One should try to focus being mean on a very small group and not being to adversarial to any large groups. \n",
    "\n",
    "N.M talks about cruely, compassion, love, and fear. N.M challenges traditional conceptions of virtue and states that one should prioritize being feared since it is better for ones safety and ability to maintain power. A ruler must also being willing to break promises when need be, and to remember that there are always more people that can be deceived for a later scheme. A leader must maintain an image of being trustworthy, compassionate, and honest with that being said, however. \n",
    "\n",
    "### Chapters 19-21\n",
    "N.M talks about how a ruler must avoid becoming hated in order to maintain power. The most effective ways to avoid this is to make sure that one is not seizing wealth, ruining a persons honor (stealing his woman or dishonoring his family), or having character traits such as being weak, effeminate, or indecisive. If one does this, then he will have an easier job defending his empire from internal threats that can come from the inside. In order to defend the empire from external influences, a ruler must have a good army as outlined in previous sections. An example of a family that was able to maintain a good image was the Bentivogli's. The ruler at the time, Annibale Bentivogli, was murdered but his son (who was an infant at the time) was able to assume power when he became of age since the family was beloved by the people of the city. The conspirators were hunted down and executed. Rulers must always be cognizant of their standing with the army(in the case of the roman emperors), the nobles, and the people. This entails having the firmness and authority to keep the army in check while not being cruel to the point that the citizens start having contempt for its leadership. A rler must always intelligently use cruelty and kindness when founding a new state and maintaining an existing state. \n",
    "\n",
    "N.M briefly talks about fortresses and their usefulness. N.M emphasizes that the best fortress a ruler can build is to have the respect and loyalty of the people. Furthermore, N.M talks about how it is best to remain neutral during conflict or to avoid allying oneself with a more powerful group in order to attack. A good ruler must leverage allies intelligently and neutrality is just another form of inaction that does not help a leader much. \n",
    "\n",
    "Lastly, N.M talks about how leaders can gain respect. The first and foremost way to gain respect is to be an outstanding leader of the army. Furthermore, a leader can gain admiration by providing impressive demonstrations of character when handling domestic affairs.\n",
    "\n",
    "### Chapters 22-25\n",
    "\n",
    "N.M ends his treatise by talking about the importance of having competent minister's who know when and when not to give advice. N.M also warns against relying to heavily on the wisdom of any particular minister, since that person will be most poised to usurp the power of the ruler if that ruler is overly reliant on that ministers knowledge. If a ruler is careful with how he asks and recieves advice, then he must simply ensure that ministers are not trying to advance only their own interests and are given a sufficient amount of wealth, respect, and power to be happy with their roles.\n",
    "\n",
    "The importance of having good ministers goes hand in hand with avoiding flatterers. N.M boils this down to selecting intelligent ministers and giving them good rules for when and how to provide advice. \n",
    "\n",
    "N.M ends his treatise by talking about how the most difficult part of becoming a ruler is gaining power, and that a great deal of incompetence is required to destroy a monarchy once it has been established. Elements of luck play a role, and are by definition outside of one's control, but N.M states that it is better to be proactive and impulsive, but to moderate these behaviours in a way that you do not ruin yourself or your empire.\n"
   ]
  },
  {
   "cell_type": "markdown",
   "id": "ddff987e",
   "metadata": {},
   "source": [
    "## The Machiavellians by James Burnham"
   ]
  },
  {
   "cell_type": "markdown",
   "id": "bc593d6d",
   "metadata": {},
   "source": [
    "## Theory of the Ruling Class by Gaetano Mosca"
   ]
  },
  {
   "cell_type": "markdown",
   "id": "7d9f667d",
   "metadata": {},
   "source": [
    "## The Mind and Society by Vilfredo Pareto"
   ]
  },
  {
   "cell_type": "markdown",
   "id": "50f8ea64",
   "metadata": {},
   "source": [
    "## The Federalist Papers by Publius"
   ]
  },
  {
   "cell_type": "markdown",
   "id": "8e9bf38b",
   "metadata": {},
   "source": [
    "## Scala Politica by Nassim Nicholas Taleb"
   ]
  },
  {
   "cell_type": "markdown",
   "id": "96391f38",
   "metadata": {},
   "source": [
    "## Second Treatise on Government by John Locke"
   ]
  },
  {
   "cell_type": "markdown",
   "id": "b3dadd82",
   "metadata": {},
   "source": [
    "## Propaganda by Edward Bernays"
   ]
  },
  {
   "cell_type": "code",
   "execution_count": null,
   "id": "35bb6c2c",
   "metadata": {},
   "outputs": [],
   "source": []
  }
 ],
 "metadata": {
  "kernelspec": {
   "display_name": "Python 3",
   "language": "python",
   "name": "python3"
  },
  "language_info": {
   "codemirror_mode": {
    "name": "ipython",
    "version": 3
   },
   "file_extension": ".py",
   "mimetype": "text/x-python",
   "name": "python",
   "nbconvert_exporter": "python",
   "pygments_lexer": "ipython3",
   "version": "3.8.8"
  }
 },
 "nbformat": 4,
 "nbformat_minor": 5
}
