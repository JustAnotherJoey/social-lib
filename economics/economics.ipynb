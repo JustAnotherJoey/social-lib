{
 "cells": [
  {
   "cell_type": "markdown",
   "id": "1c76716c",
   "metadata": {},
   "source": [
    "# Economics\n",
    "\n",
    "## The Wealth of Nations by Adam Smith"
   ]
  },
  {
   "cell_type": "markdown",
   "id": "efbd7ef5",
   "metadata": {},
   "source": [
    "## Theory of Money and Credit and Human Action by Ludwig Von Mises"
   ]
  },
  {
   "cell_type": "markdown",
   "id": "7531473a",
   "metadata": {},
   "source": [
    "## On the Principles of the Political Economy by David Ricardo"
   ]
  },
  {
   "cell_type": "markdown",
   "id": "fcb335e3",
   "metadata": {},
   "source": [
    "## Knowledge and Decisions by Thomas Sowell"
   ]
  },
  {
   "cell_type": "markdown",
   "id": "10a97e1c",
   "metadata": {},
   "source": [
    "## Game Theory by John Von Neumann"
   ]
  },
  {
   "cell_type": "markdown",
   "id": "22054201",
   "metadata": {},
   "source": [
    "## The Strategy of Conflict by Thomas Schelling"
   ]
  },
  {
   "cell_type": "code",
   "execution_count": null,
   "id": "40e5583d",
   "metadata": {},
   "outputs": [],
   "source": []
  },
  {
   "cell_type": "code",
   "execution_count": null,
   "id": "d1820f52",
   "metadata": {},
   "outputs": [],
   "source": []
  },
  {
   "cell_type": "code",
   "execution_count": null,
   "id": "0e2a694e",
   "metadata": {},
   "outputs": [],
   "source": []
  }
 ],
 "metadata": {
  "kernelspec": {
   "display_name": "Python 3",
   "language": "python",
   "name": "python3"
  },
  "language_info": {
   "codemirror_mode": {
    "name": "ipython",
    "version": 3
   },
   "file_extension": ".py",
   "mimetype": "text/x-python",
   "name": "python",
   "nbconvert_exporter": "python",
   "pygments_lexer": "ipython3",
   "version": "3.8.8"
  }
 },
 "nbformat": 4,
 "nbformat_minor": 5
}
