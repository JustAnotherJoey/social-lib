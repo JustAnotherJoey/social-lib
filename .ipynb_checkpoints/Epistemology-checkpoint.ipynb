{
 "cells": [
  {
   "cell_type": "markdown",
   "id": "c5d478b4",
   "metadata": {},
   "source": [
    "# Epistemology\n",
    "\n",
    "## Prologue : The Allegory of the Cave and Descarte's Demon\n"
   ]
  },
  {
   "cell_type": "markdown",
   "id": "a6981d89",
   "metadata": {},
   "source": [
    "## The Logic of Scientific Discovery by Karl Popper\n",
    "\n",
    "### A Survey of Fundamental Problems\n",
    "\n",
    "In the beginning of the book, Popper introduces his theory of knowledge by first addressing a couple important issues in other theories of knowledge at the time. The first issue is the problem of induction and inductive methods. An inductive method is one in which series of singular statements are used to justify universal statements. For example, if one has only seen white swans, a person might inductively reason that all swans are white. The next issue is the issue of demarcation, which is the way in which someone distinguishes between scientific and non scientific statements. In order for something to be scientific, it must be testable and falsifiable. For example, a non-scientific statement would be that the world is flat and the season are as they are because the gods created the universe to be flat and the emotions of the gods determines the seasons (and thus why they fluctuate). This statement is not testable, so we cannot determine whether or not it is true. Moreover, the prediction that it must be hot or cold tomorrow isn't scientific since (depending on how we define hot and cold, in this case consider hot as warmer than 70 degrees fahrenheit and cold everythig below that) this statement cannot be falsified (it has been defined to be true in all cases). \n",
    "\n",
    "Popper argues that theories of knowledge should agree with experience in the real world. While inductive reasoning and verifiability are great reasons to believe something on the surface, they cannot be used to establish the certainity of something alone due to issues with induction. Thus, Popper adopts the view that one should use falsifiability as a demarcation for science since it is easier to show that something is not true than it is to be sure that it must always be true. Thus, science should proceed by conjecturing good explanations that pass rigourous testing in real world experiences and modifying our beliefs as we falsify the best conjectures. As the best conjectures get modified, we should be coming up with conjectures that solve the class of problems that old conjectures solved on top of new phenomanae. For example, the move from Newtonian Mechanics to Relativistic Mechanics allowed us to do a better job of modeling phenomanae that occur between objects that are moving very fast or are very large, while also still explaining the dynamics of objects in Newtonian Mechanics. \n",
    "\n",
    "Popper asserts that scientific theories can never be fully justified since one can always doubt the accuracy or legitimacy of experimental results/measurements and cannot be sure that a counterexample is not looming around the corner. However, scientific, falsifiable theories can gain creedence as the reproducibility of results of a theory increases and the number of confirming experiments increases. This means that science is a process that never ends, since one should always be looking for experiments to confirm theories (and lesser level universal statements deduced from fundamental theoretical assertions) as well as better theories that are more robust or general than previous theories. \n",
    "\n",
    "### On the Problem of a Theory of Scientific Method\n",
    "\n",
    "Popper begins this section by briefly noting some of the relevant aspects of metaphysical claims, although mentioning that becoming too dogmatic on a particular theory is anti-scientific and anti-progress. Popper sumarizes the methodological considerations of science as \n",
    "1.) Science is a game with no end\n",
    "2.) A hypothesis can only be discarded after the hypothesis or a consequence of the hypothesis is falsified or if a better theory which is better testable takes it place. \n",
    "\n",
    "These methodological considerations emphasize the importance of a theory being falsifiable as well as the reality that the process of creating knowledge never ending. The power in falsification is that a theory of knowledge based on falsification has a built in error correcting mechanism for getting rid of bad theories and replacing them with better theories. \n",
    "\n",
    "### Theories\n",
    "\n",
    "\"Theories are nets cast to catch what we call 'the world': to rationalize, to explain, and to master it. We endeavour to make the mesh ever finer and finer\"\n",
    "\n",
    "For many, causal explanations are the hallmark of great understanding. Casual explanations use premises of deduction on universal laws and singular statements with initial conditions in order to explain some phenomanae. A complete casual explanation must contain both universal and singular statements. A universal statement is meant to capture the character of natural laws, while singular statements are meant to be observable in the real world and are meant to either verify or falsify a particular universal statement. \n",
    "\n",
    "Popper considers the principle of casuality, ie the ability to use initial conditions, universal statements, and deductive reasoning to assign causality to events, to be a metaphysical concept that is outside the realm of science. One cannot take notions of casuality to be self-evident or deductive truths since one must invoke a tautology or a synthetic explanation in order to assert that the principle of causality is something we can build knowledge off of. \n",
    "\n",
    "Although Popper considers the tradtional principle of causality to be metaphysical, Popper asserts that the principles of never giving up on finding universal laws and coming up with theoretical explanations is a mechanism that allows elements of casuality to leak into Popper's version of the scientific method. \n",
    "\n",
    "Popper makes a distinction between two types of universal synthetic statements : strictly universal statements, which are theoretical explanations or natural laws, and numerically universal statements which are a subset of singular statements. \n",
    "\n",
    "Popper makes another distinction between universal names and singular names, which essentially delineates between \"abstract\" objects that are meant to capture some essence and refer to properties that may or may not be captured by singular objects belonging to some class of universal objects. For example, a dictator is an example of a universal name, while Napoleon is an example of a singular name. Popper notes that one cannot define universal names by singular names or singular names by universal names. \n",
    "\n",
    "Finally, Popper makes a distinction between strictly universal statements and existential statements. Strictly universal statements are akin to \"there is statements\", which asserts the existence of some objects or properties. An existential statement, on the other hand, asserts the non-existence of something. Existential statements are an important class of statements since they are falsifiable, and they happen to be the logical negation of strictly universal statements. As a result, physical laws of the universe which are often framed as universal statements can be falsified by negating the universal statement and finding a counterexample. Thus, one can disprove the assertion the energy and momentum are not conserved by observing or creating a perpetual motion machine in which energy is not conserved. On the other hand, strictly existential statements cannot be falsified since existential statements cannot be falsified by singular statements. The reason for this is that we cannot search the entire universe in order to conclude that something is outside the realm of possibility. Since we cannot verify or falsify an existential statement (by searching the entire space of possibilities in the universe and assuming that after the search nothing will change), existential statements are also in the realm of metaphysics. \n",
    "\n",
    "Universal and existential statments, although they cannot be both verifiable and falsifiable, are decidable. Universal statements can certainly be falsified, and singular statements can certainly be verified. By making falsifiability the demarcation between science and metaphysics, an asymmetry is created in the value of knowledge of a universal type since it can be readily falsified and replaced with a better theory, while singular statements can be readily observed but can never be verified (allowing for people to easily vary explanations in light of falsifying evidence).\n",
    "\n",
    "Theoretical systems are always subject to change. This is something that should be expected in Popperian epistemology, since better explanations and additional experiments are always right around the corner. A theoretical system is said to be axiomized when the axioms of the system do not have contradictions, the axioms are as simple as possible, sufficiently able to deduce all of the statements the theory is trying to describe, and must not contain any superfluous assumptions that do not add to the model. \n",
    "\n",
    "Finally, theoretical systems are often constructed in ways that they are in agreement or have similarities to other theoretical systems. For example, theories of geometry and physics share many common themes and understandings of the phenamenae they purport to describe. Theories can often be combined, unified, or subsumed in ways that provide better explanations. \n",
    "\n",
    "\n",
    "\n",
    "### Falsifiability\n",
    "\n",
    "Popper begins by addressing \"conventionalist\" objections about Popper's demarcation of falsifiability. He asserts that conventionalists place on emphasis that nature is understandable and that the laws describing nature should be as simple as possible. The conventionalist approach is prone to criticising new theories that account for phenomanae in disagreement of conventionalist approaches as errors in following conventionalist method or errors in measurement. A conventionalist might also propose making ad hoc changes to a current system rather than even considering the legitimacy of a new system that shifts the paradigm of thinking. People who subscribe to conventionalist philosophies cannot divide systems into falsifiable and non-falsifiable, so Popperian science is useless to them. Ad hoc hypotheses, or auxilliary hypotheses, can be useful if they actually advance our knowledge but are meaningless when they simply account for a specific error alone in a system. \n",
    "\n",
    "Popper logically characterizes falsifiable systems as systems in which logical relations can be used to test consistency and accuracy of a system. A system is then divided into statements that falsify the theory and statements that verify the system. A theory should be able to be reduced to more empirical, basic statements that can be measured or observed in the real world. A falsifiable system must guarantee that all basic statements either verify the theory or falsify the theory, and should aim to capture as many true statements that can be observed while also having a non-empty list of falisfiers that can be readily observed. A theory with no falsifiable statements is not scientific. \n",
    "\n",
    "A system becomes falsified when we accept that basic statements contradict the system of interest. More specifically, people should consider a system falsified once a reproducible, falsying observation can be made against the theory. Popper makes a distinction between occurrences and events, where occurences are defined as a spatio-temporal happening and events are defined as universal characterizations of an occurence. For example, an occurence might be \"the glass of water on my table moved after I finished typing this sentence\", ad an event would be a list of occurences such as \"moving glasses of water\". Events are groups of occurences. For a theory to be scientific, it must forbid certain types of occurences from happening. \n",
    "$$ p \\implies (p \\land q) $$\n",
    "$$ \\neg p \\implies (p \\implies q) $$\n",
    "$$ p \\lor \\neg p \\implies q$$\n",
    "Using the logic above and the modus ponens, any statement q can be concluded from p or not p. \n",
    "\n",
    "Overall, scientific systems must be logically consistent and falsifiable in order to be useful. \n",
    "\n",
    "### The Problem of the Empirical Basis\n",
    "\n",
    "Popper criticizes the notion that empirical sciences can be reduced to sense-perceptions on the grounds that induction cannot verify knowledge. Thus, no formal language can correlate to all sense-experiences since universal statements (which are made by formal languages) cannot be reduced to observable experiences. Popper goes on to criticize protocol sentences for their inability to provide meaningful information on how to correct incosistent protocol sentences.\n",
    "\n",
    "Popper asserts that a system must have testifiable basic statements in order to have the capacity of increasing knowledge. A basic statement must be satisfiable by all singular existential statements and must have a basic statement with respect to an occurence (an observable event) to ensure testability. Thus, the systems that arise in Popperian science are always testable and can always be improved using the scientific method. Perceptual experience can influence us to make a certain conclusion, but perceptual experience alone does not prove the truth of a statement. Thus, the end of the Popperian scientific method ends in dogmas, but these are dogmas that can be readily tested and falsified, allowing room for better explanations/theories.  \n",
    "\n",
    "Theory and experiment are inseperable in the pursuit of knowledge. Singular, existential statements motivate experimentalists to pursue different theories in order to explain the results of an experiment. On the other hand, theory motivates us to create experiments that verify the undocumented consequences of the new theory and ultimately discover new phenomanae that cannot be described by current theory (or by quiting the game of science).\n",
    "\n",
    "Theories are never complete, but certain theories are better than others. Some theories more abstractly explain phenomanae that can be observed in the world, can be falsified by experiments that anybody can perform given the right knowledge and tools, and motivate us to conduct new experiments that expand the frontier of knowledge and uncertainty."
   ]
  },
  {
   "cell_type": "markdown",
   "id": "6c40b463",
   "metadata": {},
   "source": [
    "## Treatise on Probability by John Maynard Keynes"
   ]
  },
  {
   "cell_type": "markdown",
   "id": "ebd4dce9",
   "metadata": {},
   "source": [
    "## The Incerto by Nassim Nicholas Taleb"
   ]
  },
  {
   "cell_type": "markdown",
   "id": "d3d819ea",
   "metadata": {},
   "source": [
    "## Principia Mathematica by Bertrand Russell and Alfred Whitehead"
   ]
  },
  {
   "cell_type": "markdown",
   "id": "849f1d4e",
   "metadata": {},
   "source": [
    "## Fabric of Reality and Beginning of Infinity by David Deutsch"
   ]
  },
  {
   "cell_type": "markdown",
   "id": "f085c23c",
   "metadata": {},
   "source": [
    "## The Structure of Scientific Revolutions by Thomas Kuhn"
   ]
  },
  {
   "cell_type": "markdown",
   "id": "a123b6f4",
   "metadata": {},
   "source": [
    "## The Evolution of Everything - How New Ideas Emerge by Matt Ridley"
   ]
  },
  {
   "cell_type": "code",
   "execution_count": null,
   "id": "42d5a1fc",
   "metadata": {},
   "outputs": [],
   "source": []
  }
 ],
 "metadata": {
  "kernelspec": {
   "display_name": "Python 3",
   "language": "python",
   "name": "python3"
  },
  "language_info": {
   "codemirror_mode": {
    "name": "ipython",
    "version": 3
   },
   "file_extension": ".py",
   "mimetype": "text/x-python",
   "name": "python",
   "nbconvert_exporter": "python",
   "pygments_lexer": "ipython3",
   "version": "3.8.8"
  }
 },
 "nbformat": 4,
 "nbformat_minor": 5
}
