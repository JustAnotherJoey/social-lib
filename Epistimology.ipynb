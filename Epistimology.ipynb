{
 "cells": [
  {
   "cell_type": "markdown",
   "id": "c5d478b4",
   "metadata": {},
   "source": [
    "# Epistimology\n",
    "\n",
    "## Prologue : The Allegory of the Cave and Descarte's Demon\n"
   ]
  },
  {
   "cell_type": "markdown",
   "id": "826b5a77",
   "metadata": {},
   "source": [
    "## The Logic of Scientific Discovery by Karl Popper\n",
    "\n",
    "### Chapter I Sections 1-6\n",
    "\n",
    "In the beginning of the book, Popper introduces his theory of knowledge by first addressing a couple important issues in other theories of knowledge at the time. The first issue is the problem of induction and inductive methods. An inductive method is one in which series of singular statements are used to justify universal statements. For example, if one has only seen white swans, a person might inductively reason that all swans are white. The next issue is the issue of demarcation, which is the way in which someone distinguishes between scientific and non scientific statements. In order for something to be scientific, it must be testable and falsifiable. For example, a non-scientific statement would be that the world is flat and the season are as they are because the gods created the universe to be flat and the emotions of the gods determines the seasons (and thus why they fluctuate). This statement is not testable, so we cannot determine whether or not it is true. Moreover, the prediction that it must be hot or cold tomorrow isn't scientific since (depending on how we define hot and cold, in this case consider hot as warmer than 70 degrees fahrenheit and cold everythig below that) this statement cannot be falsified (it has been defined to be true in all cases). \n",
    "Popper argues that theories of knowledge should agree with experience in the real world. While inductive reasoning and verifiability are great reasons to believe something on the surface, they cannot be used to establish the certainity of something alone due to issues with induction. Thus, Popper adopts the view that one should use falsifiability as a demarcation for science since it is easier to show that something is not true than it is to be sure that it must always be true. Thus, science should proceed by conjecturing good explanations that pass rigourous testing in real world experiences and modifying our beliefs as we falsify the best conjectures. As the best conjectures get modified, we should be coming up with conjectures that solve the class of problems that old conjectures solved on top of new phenomanae. For example, the move from Newtonian Mechanics to Relativistic Mechanics allowed us to do a better job of modeling phenomanae that occur between objects that are moving very fast or are very large, while also still explaining the dynamics of objects in Newtonian Mechanics. \n",
    "\n",
    "### Chapter 1 Sections 6-\n",
    "\n"
   ]
  },
  {
   "cell_type": "markdown",
   "id": "ebd4dce9",
   "metadata": {},
   "source": [
    "## The Incerto by Nassim Nicholas Taleb"
   ]
  },
  {
   "cell_type": "markdown",
   "id": "849f1d4e",
   "metadata": {},
   "source": [
    "## Fabric of Reality and Beginning of Infinity by David Deutsch"
   ]
  },
  {
   "cell_type": "markdown",
   "id": "f085c23c",
   "metadata": {},
   "source": [
    "## The Structure of Scientific Revolutions by Thomas Kuhn"
   ]
  },
  {
   "cell_type": "markdown",
   "id": "a123b6f4",
   "metadata": {},
   "source": [
    "## The Evolution of Everything - How New Ideas Emerge by Matt Ridley"
   ]
  },
  {
   "cell_type": "code",
   "execution_count": null,
   "id": "42d5a1fc",
   "metadata": {},
   "outputs": [],
   "source": []
  }
 ],
 "metadata": {
  "kernelspec": {
   "display_name": "Python 3",
   "language": "python",
   "name": "python3"
  },
  "language_info": {
   "codemirror_mode": {
    "name": "ipython",
    "version": 3
   },
   "file_extension": ".py",
   "mimetype": "text/x-python",
   "name": "python",
   "nbconvert_exporter": "python",
   "pygments_lexer": "ipython3",
   "version": "3.8.8"
  }
 },
 "nbformat": 4,
 "nbformat_minor": 5
}
